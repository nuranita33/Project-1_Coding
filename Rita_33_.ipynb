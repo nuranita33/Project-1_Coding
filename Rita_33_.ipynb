{
  "nbformat": 4,
  "nbformat_minor": 0,
  "metadata": {
    "colab": {
      "provenance": [],
      "authorship_tag": "ABX9TyO9E11Ey+4k47y9dpEYODxz",
      "include_colab_link": true
    },
    "kernelspec": {
      "name": "python3",
      "display_name": "Python 3"
    },
    "language_info": {
      "name": "python"
    }
  },
  "cells": [
    {
      "cell_type": "markdown",
      "metadata": {
        "id": "view-in-github",
        "colab_type": "text"
      },
      "source": [
        "<a href=\"https://colab.research.google.com/github/nuranita33/Project-1_Coding/blob/main/Rita_33_.ipynb\" target=\"_parent\"><img src=\"https://colab.research.google.com/assets/colab-badge.svg\" alt=\"Open In Colab\"/></a>"
      ]
    },
    {
      "cell_type": "markdown",
      "source": [
        "เลขที่ 33 ริต้า นูรอานีต้า สานิ\n",
        "No. 33 Rita Nuranita Sani"
      ],
      "metadata": {
        "id": "oR8hgBfI9Hun"
      }
    },
    {
      "cell_type": "markdown",
      "source": [
        "20 พฤษภาคม"
      ],
      "metadata": {
        "id": "OUsZJ1cqALOb"
      }
    },
    {
      "cell_type": "code",
      "execution_count": null,
      "metadata": {
        "colab": {
          "base_uri": "https://localhost:8080/"
        },
        "id": "GsuqeCml87xE",
        "outputId": "096b4daf-5d16-4102-f519-74ce71bf2138"
      },
      "outputs": [
        {
          "output_type": "stream",
          "name": "stdout",
          "text": [
            "สวัสดีค่ะ มีอะไรให้ช่วยไหมคะ เค้าชื่อริต้านะ\n"
          ]
        }
      ],
      "source": [
        "print(\"สวัสดีค่ะ มีอะไรให้ช่วยไหมคะ หนูชื่อริต้านะคะ\")"
      ]
    },
    {
      "cell_type": "code",
      "source": [
        "a=2\n",
        "b=3\n",
        "c=5\n",
        "print(str(a) + \"*\"+\"(\" + str(b) + \"+\" + str(c)+\")\" + \"=\" +str(a) + \"*\" + str(b) + \"+\"+ str(a) + \"*\"+ str(c))"
      ],
      "metadata": {
        "colab": {
          "base_uri": "https://localhost:8080/"
        },
        "id": "pAN7Oy_BFXL7",
        "outputId": "8691fc2e-0a89-4905-ce8a-d6350dcb699e"
      },
      "execution_count": null,
      "outputs": [
        {
          "output_type": "stream",
          "name": "stdout",
          "text": [
            "2*(3+5)=2*3+2*5\n"
          ]
        }
      ]
    },
    {
      "cell_type": "markdown",
      "source": [
        "29/5/67"
      ],
      "metadata": {
        "id": "HtS71jJsZcWK"
      }
    },
    {
      "cell_type": "code",
      "source": [
        "a = 2\n",
        "b = 1.5\n",
        "c = \"M.4/4\"\n",
        "name = \"rita\"\n",
        "\n",
        "type(c)\n"
      ],
      "metadata": {
        "colab": {
          "base_uri": "https://localhost:8080/"
        },
        "id": "csS3ZtQqZnaZ",
        "outputId": "0124a621-958a-4d38-ff07-d28ae830f279"
      },
      "execution_count": null,
      "outputs": [
        {
          "output_type": "execute_result",
          "data": {
            "text/plain": [
              "str"
            ]
          },
          "metadata": {},
          "execution_count": 16
        }
      ]
    },
    {
      "cell_type": "markdown",
      "source": [
        "29 พฤษภาคม 2567\n",
        "ได้รู้จักชนิดของตัวเเปร ตั้งชื่อตัวเเปรได้\n",
        "เเละสามารถตรวจสอบชนิดของตัวเเปรได้"
      ],
      "metadata": {
        "id": "fRPw4iRFgycK"
      }
    },
    {
      "cell_type": "code",
      "source": [
        "numerric1 = 5\n",
        "\n",
        "\n",
        "print(numerric1)\n",
        "type(numerric1)"
      ],
      "metadata": {
        "colab": {
          "base_uri": "https://localhost:8080/"
        },
        "id": "pQZN6jdukbq7",
        "outputId": "d06c0b17-e0c7-4996-f5af-12cc21619443"
      },
      "execution_count": null,
      "outputs": [
        {
          "output_type": "stream",
          "name": "stdout",
          "text": [
            "5\n"
          ]
        },
        {
          "output_type": "execute_result",
          "data": {
            "text/plain": [
              "int"
            ]
          },
          "metadata": {},
          "execution_count": 19
        }
      ]
    },
    {
      "cell_type": "code",
      "source": [
        "5/6/67"
      ],
      "metadata": {
        "id": "eO-hc1uGYIMa"
      },
      "execution_count": null,
      "outputs": []
    },
    {
      "cell_type": "code",
      "source": [
        "string1 = \"Python\"\n",
        "\n",
        "print(string1[-1])"
      ],
      "metadata": {
        "colab": {
          "base_uri": "https://localhost:8080/"
        },
        "id": "fMJk4IR_YNuS",
        "outputId": "bb24621a-d6f7-4e8d-c698-7ab612752e22"
      },
      "execution_count": 1,
      "outputs": [
        {
          "output_type": "stream",
          "name": "stdout",
          "text": [
            "n\n"
          ]
        }
      ]
    },
    {
      "cell_type": "markdown",
      "source": [
        "5 มิถุนายน 2567\n",
        "รู้จัก numerric เพิ่ม bool(true false) complex(ตัวที่หาค่าไม่ได้ ค่าพาย)\n",
        "data stuctrure\n",
        "index เรียงจาก 0 เพิ่มขึ่นทีละ 1 ใช้ []\n",
        "ความสัมพันธ์ input-string1 = \"Python\"\n",
        "print(string1[-1])\n",
        "procress-ตอนกดรันโค้ด เนื่องจากเราบอกไว้เเล้วว่า[-1]\n",
        "output-P"
      ],
      "metadata": {
        "id": "kdUgo3HdWVja"
      }
    },
    {
      "cell_type": "markdown",
      "source": [
        "26 มิถุนายน 2567"
      ],
      "metadata": {
        "id": "dQEOVh5XuMLd"
      }
    },
    {
      "cell_type": "code",
      "source": [
        "name = input(\"โปรดใส่ชื่อของคุณ \")\n",
        "\n",
        "print(\"เป็นชื่อที่เพราะนะคะคุณ\"+name)"
      ],
      "metadata": {
        "id": "UFXxe68tvd6B"
      },
      "execution_count": null,
      "outputs": []
    },
    {
      "cell_type": "code",
      "source": [
        "side = int(input(\"สี่เหลี่ยมจตุรัสของคุณด้านยาวเท่าไหร่\"))\n",
        "area = side * side\n",
        "\n",
        "print(\"พื้นที่สี่เหลี่ยมของคุณคือ\",area,\"ตรซม\")"
      ],
      "metadata": {
        "id": "6OYMW9hdy799",
        "colab": {
          "base_uri": "https://localhost:8080/"
        },
        "outputId": "760de02b-ad33-4a2c-b2a1-b5c41b52b43b"
      },
      "execution_count": null,
      "outputs": [
        {
          "output_type": "stream",
          "name": "stdout",
          "text": [
            "สี่เหลี่ยมจตุรัสของคุณด้านยาวเท่าไหร่3\n",
            "พื้นที่สี่เหลี่ยมของคุณคือ 9 ตรซม\n"
          ]
        }
      ]
    },
    {
      "cell_type": "markdown",
      "source": [
        "1/7/67\n"
      ],
      "metadata": {
        "id": "QwTx8VhXPCrQ"
      }
    },
    {
      "cell_type": "code",
      "source": [
        "width = int(input(\"ความกว้างของสี่เหลี่ยมผืนผ้า\"))\n",
        "long = int(input(\"ความยาวของสี่เหลี่ยมผืนผ้า\"))\n",
        "area = width*long\n",
        "\n",
        "print(\"\\nพื้นที่สี่เหลี่ยมผืนผ้าของคุณคือ\",area,\"ตรซม\")"
      ],
      "metadata": {
        "colab": {
          "base_uri": "https://localhost:8080/"
        },
        "id": "MaMMwBWzPxrr",
        "outputId": "7b80b3fb-8598-4869-ec2b-d2f6ee666ab9"
      },
      "execution_count": null,
      "outputs": [
        {
          "output_type": "stream",
          "name": "stdout",
          "text": [
            "ความกว้างของสี่เหลี่ยมผืนผ้า5\n",
            "ความยาวของสี่เหลี่ยมผืนผ้า4\n",
            "\n",
            "พื้นที่สี่เหลี่ยมผืนผ้าของคุณคือ 20 ตรซม\n"
          ]
        }
      ]
    },
    {
      "cell_type": "code",
      "source": [
        "S = int(input(\"ระยะทางของคุณ(S)คือ เมตร\\n\"))\n",
        "t = int(input(\"เวลาในการเคลื่อนที่คือ(t) วิ\\n\"))\n",
        "speed = S/t\n",
        "print(\"V=S/t\")\n",
        "\n",
        "print(\"อัตราเร็วของคุณคือ\",speed,\"เมตรต่อวินาที\")"
      ],
      "metadata": {
        "colab": {
          "base_uri": "https://localhost:8080/"
        },
        "id": "fnd527V5SKj7",
        "outputId": "682fd232-18ac-4b78-b76a-982d637eafda"
      },
      "execution_count": null,
      "outputs": [
        {
          "output_type": "stream",
          "name": "stdout",
          "text": [
            "ระยะทางของคุณ(S)คือ เมตร\n",
            "50\n",
            "เวลาในการเคลื่อนที่คือ(t) วิ\n",
            "21\n",
            "V=S/t\n",
            "อัตราเร็วของคุณคือ 2.380952380952381 เมตรต่อวินาที\n"
          ]
        }
      ]
    },
    {
      "cell_type": "code",
      "source": [
        "print(\"นี่คือโปรเเกรมการคำนวณดัชนีมวลกายที่เเม่นยำที่สุดในโลก\")\n",
        "print(\"จัดทำโดย น้องริต้า\\n\")\n",
        "name =str(input(\"โปรดใส่ชื่อของท่าน\"))\n",
        "weight = float(input(\"น้ำหนักกายของท่าน(kg)\"))\n",
        "height = float(input(\"ส่วนสูงของท่าน(m)\"))\n",
        "BMI = weight/height**2\n",
        "print(\"ยินดีต้อนรับค่ะคุณ\",name)\n",
        "print(\">>>>>>>>>>>>>>>>>>>>>>>>>>>>>>>>>>>>>>>>>\")\n",
        "print(\"ค่าดัชนีมวลกายของท่าน คือ\",BMI)"
      ],
      "metadata": {
        "colab": {
          "base_uri": "https://localhost:8080/"
        },
        "id": "ihTJbbgOXdis",
        "outputId": "a02f65c2-935c-42e3-f810-a4159ebb2d55"
      },
      "execution_count": null,
      "outputs": [
        {
          "output_type": "stream",
          "name": "stdout",
          "text": [
            "นี่คือโปรเเกรมการคำนวณดัชนีมวลกายที่เเม่นยำที่สุดในโลก\n",
            "จัดทำโดย น้องริต้า\n",
            "\n",
            "โปรดใส่ชื่อของท่านริต้า\n",
            "น้ำหนักกายของท่าน(kg)50\n",
            "ส่วนสูงของท่าน(m)1.50\n",
            "ยินดีต้อนรับค่ะคุณ ริต้า\n",
            ">>>>>>>>>>>>>>>>>>>>>>>>>>>>>>>>>>>>>>>>>\n",
            "ค่าดัชนีมวลกายของท่าน คือ 22.22222222222222\n"
          ]
        }
      ]
    }
  ]
}