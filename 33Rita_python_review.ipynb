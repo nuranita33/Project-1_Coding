{
  "nbformat": 4,
  "nbformat_minor": 0,
  "metadata": {
    "colab": {
      "provenance": [],
      "include_colab_link": true
    },
    "kernelspec": {
      "name": "python3",
      "display_name": "Python 3"
    },
    "language_info": {
      "name": "python"
    }
  },
  "cells": [
    {
      "cell_type": "markdown",
      "metadata": {
        "id": "view-in-github",
        "colab_type": "text"
      },
      "source": [
        "<a href=\"https://colab.research.google.com/github/nuranita33/Project-1_Coding/blob/main/33Rita_python_review.ipynb\" target=\"_parent\"><img src=\"https://colab.research.google.com/assets/colab-badge.svg\" alt=\"Open In Colab\"/></a>"
      ]
    },
    {
      "cell_type": "code",
      "source": [
        "\n",
        "price = int(input())\n",
        "if 1000 < price :\n",
        "  print(price*10/100)\n",
        "else :\n",
        "  print(\"ไม่มีส่วนลด\")"
      ],
      "metadata": {
        "id": "KrN7wT_I6NmU",
        "colab": {
          "base_uri": "https://localhost:8080/"
        },
        "outputId": "85f24018-5cd9-42d1-959f-14caa2398a3c"
      },
      "execution_count": null,
      "outputs": [
        {
          "output_type": "stream",
          "name": "stdout",
          "text": [
            "1200\n",
            "120.0\n"
          ]
        }
      ]
    },
    {
      "cell_type": "code",
      "source": [
        "def rita_function(V,f):\n",
        "  wave = V/f\n",
        "  print(\"Your wavelength is\",'%.1f'%wave,\"sq.m\")\n",
        "\n",
        "  rita_function(15,20)"
      ],
      "metadata": {
        "id": "uS9SWc841f9C"
      },
      "execution_count": null,
      "outputs": []
    }
  ]
}